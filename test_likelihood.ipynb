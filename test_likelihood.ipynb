{
 "cells": [
  {
   "cell_type": "code",
   "execution_count": 6,
   "id": "ca1fcad7",
   "metadata": {},
   "outputs": [],
   "source": [
    "import torch\n",
    "from torch import nn\n",
    "from torch.utils.data import DataLoader\n",
    "from sklearn.datasets import load_boston\n",
    "from sklearn.preprocessing import StandardScaler\n",
    "from torchinfo import summary\n",
    "import numpy as np"
   ]
  },
  {
   "cell_type": "code",
   "execution_count": 2,
   "id": "f99d15bd",
   "metadata": {},
   "outputs": [
    {
     "name": "stdout",
     "output_type": "stream",
     "text": [
      "Using cpu device\n"
     ]
    }
   ],
   "source": [
    "device = \"cuda\" if torch.cuda.is_available() else \"cpu\"\n",
    "print(f\"Using {device} device\")"
   ]
  },
  {
   "cell_type": "code",
   "execution_count": 7,
   "id": "bb0858d1",
   "metadata": {},
   "outputs": [],
   "source": [
    "# Om\t\t\t\\Omega_m\n",
    "# Obh2\t\t\t\\Omega_{b}h^2\n",
    "# h\t\n",
    "datafile = 'chains/LCDM_phy_HD_nested_dynesty_multi_1.txt'"
   ]
  },
  {
   "cell_type": "code",
   "execution_count": 4,
   "id": "7e44d01d",
   "metadata": {},
   "outputs": [],
   "source": [
    "class LoadDataSet(torch.utils.data.Dataset):\n",
    "    '''\n",
    "    Prepare the dataset for regression\n",
    "    '''\n",
    "    def __init__(self, X, y, scale_data=True):\n",
    "        if not torch.is_tensor(X) and not torch.is_tensor(y):\n",
    "            # Apply scaling if necessary\n",
    "            if scale_data:\n",
    "                X = StandardScaler().fit_transform(X)\n",
    "            self.X = torch.from_numpy(X)\n",
    "            self.y = torch.from_numpy(y)\n",
    "\n",
    "    def __len__(self):\n",
    "        return len(self.X)\n",
    "\n",
    "    def __getitem__(self, i):\n",
    "        return self.X[i], self.y[i]"
   ]
  },
  {
   "cell_type": "code",
   "execution_count": 30,
   "id": "12384b0c",
   "metadata": {},
   "outputs": [],
   "source": [
    "class MLP(nn.Module):\n",
    "    '''\n",
    "    Multilayer Perceptron for regression.\n",
    "    '''\n",
    "    def __init__(self):\n",
    "        super().__init__()\n",
    "        ncols = 3\n",
    "        self.layers = nn.Sequential(\n",
    "          nn.Linear(ncols, 64),\n",
    "          nn.ReLU(),\n",
    "          nn.Linear(64, 32),\n",
    "          nn.ReLU(),\n",
    "          nn.Linear(32, 1)\n",
    "        )\n",
    "\n",
    "\n",
    "    def forward(self, x):\n",
    "        '''\n",
    "          Forward pass\n",
    "        '''\n",
    "        return self.layers(x)"
   ]
  },
  {
   "cell_type": "code",
   "execution_count": 31,
   "id": "b5679a55",
   "metadata": {},
   "outputs": [
    {
     "name": "stdout",
     "output_type": "stream",
     "text": [
      "(1036, 3) (1036, 1)\n"
     ]
    }
   ],
   "source": [
    "if __name__ == '__main__':\n",
    "    # Set fixed random number seed\n",
    "    torch.manual_seed(42)\n",
    "  \n",
    "    # Load Boston dataset\n",
    "    X = np.loadtxt(datafile, usecols=(2,3,4))\n",
    "    y = np.loadtxt(datafile, usecols=1).reshape(-1, 1)\n",
    "    print(np.shape(X), np.shape(y))"
   ]
  },
  {
   "cell_type": "code",
   "execution_count": 32,
   "id": "d0643d20",
   "metadata": {},
   "outputs": [],
   "source": [
    "dataset = LoadDataSet(X, y)"
   ]
  },
  {
   "cell_type": "code",
   "execution_count": 33,
   "id": "98d7d15a",
   "metadata": {},
   "outputs": [
    {
     "data": {
      "text/plain": [
       "<__main__.LoadDataSet at 0x7fb06555fc40>"
      ]
     },
     "execution_count": 33,
     "metadata": {},
     "output_type": "execute_result"
    }
   ],
   "source": [
    "dataset"
   ]
  },
  {
   "cell_type": "code",
   "execution_count": 34,
   "id": "ad034cfa",
   "metadata": {},
   "outputs": [],
   "source": [
    "trainloader = torch.utils.data.DataLoader(dataset, batch_size=10, shuffle=True, num_workers=1)"
   ]
  },
  {
   "cell_type": "code",
   "execution_count": 35,
   "id": "e3d76846",
   "metadata": {},
   "outputs": [
    {
     "data": {
      "text/plain": [
       "tensor([[113.1624],\n",
       "        [105.5863],\n",
       "        [102.7997],\n",
       "        ...,\n",
       "        [  7.2537],\n",
       "        [  7.2515],\n",
       "        [  7.2512]], dtype=torch.float64)"
      ]
     },
     "execution_count": 35,
     "metadata": {},
     "output_type": "execute_result"
    }
   ],
   "source": [
    "dataset.y"
   ]
  },
  {
   "cell_type": "code",
   "execution_count": 36,
   "id": "e4746d90",
   "metadata": {},
   "outputs": [],
   "source": [
    "# Initialize the MLP\n",
    "mlp = MLP()\n",
    "mlp.float()\n",
    "# Define the loss function and optimizer\n",
    "loss_function = nn.L1Loss()\n",
    "optimizer = torch.optim.Adam(mlp.parameters(), lr=1e-4)"
   ]
  },
  {
   "cell_type": "code",
   "execution_count": 37,
   "id": "8ee8cf71",
   "metadata": {},
   "outputs": [
    {
     "data": {
      "text/plain": [
       "=================================================================\n",
       "Layer (type:depth-idx)                   Param #\n",
       "=================================================================\n",
       "MLP                                      --\n",
       "├─Sequential: 1-1                        --\n",
       "│    └─Linear: 2-1                       256\n",
       "│    └─ReLU: 2-2                         --\n",
       "│    └─Linear: 2-3                       2,080\n",
       "│    └─ReLU: 2-4                         --\n",
       "│    └─Linear: 2-5                       33\n",
       "=================================================================\n",
       "Total params: 2,369\n",
       "Trainable params: 2,369\n",
       "Non-trainable params: 0\n",
       "================================================================="
      ]
     },
     "execution_count": 37,
     "metadata": {},
     "output_type": "execute_result"
    }
   ],
   "source": [
    "summary(mlp, batch_size=-1)"
   ]
  },
  {
   "cell_type": "code",
   "execution_count": 39,
   "id": "a8dd3a55",
   "metadata": {},
   "outputs": [
    {
     "name": "stdout",
     "output_type": "stream",
     "text": [
      "Starting epoch 1\n",
      "Loss after mini-batch     1: 0.014\n",
      "Loss after mini-batch    11: 0.207\n",
      "Loss after mini-batch    21: 0.233\n",
      "Loss after mini-batch    31: 0.187\n",
      "Loss after mini-batch    41: 0.214\n",
      "Loss after mini-batch    51: 0.156\n",
      "Loss after mini-batch    61: 0.208\n",
      "Loss after mini-batch    71: 0.168\n",
      "Loss after mini-batch    81: 0.163\n",
      "Loss after mini-batch    91: 0.157\n",
      "Loss after mini-batch   101: 0.209\n",
      "Starting epoch 2\n",
      "Loss after mini-batch     1: 0.023\n",
      "Loss after mini-batch    11: 0.160\n",
      "Loss after mini-batch    21: 0.138\n",
      "Loss after mini-batch    31: 0.190\n",
      "Loss after mini-batch    41: 0.142\n",
      "Loss after mini-batch    51: 0.142\n",
      "Loss after mini-batch    61: 0.157\n",
      "Loss after mini-batch    71: 0.159\n",
      "Loss after mini-batch    81: 0.152\n",
      "Loss after mini-batch    91: 0.200\n",
      "Loss after mini-batch   101: 0.112\n",
      "Starting epoch 3\n",
      "Loss after mini-batch     1: 0.008\n",
      "Loss after mini-batch    11: 0.136\n",
      "Loss after mini-batch    21: 0.163\n",
      "Loss after mini-batch    31: 0.110\n",
      "Loss after mini-batch    41: 0.110\n",
      "Loss after mini-batch    51: 0.105\n",
      "Loss after mini-batch    61: 0.103\n",
      "Loss after mini-batch    71: 0.081\n",
      "Loss after mini-batch    81: 0.088\n",
      "Loss after mini-batch    91: 0.122\n",
      "Loss after mini-batch   101: 0.103\n",
      "Starting epoch 4\n",
      "Loss after mini-batch     1: 0.012\n",
      "Loss after mini-batch    11: 0.095\n",
      "Loss after mini-batch    21: 0.067\n",
      "Loss after mini-batch    31: 0.092\n",
      "Loss after mini-batch    41: 0.053\n",
      "Loss after mini-batch    51: 0.056\n",
      "Loss after mini-batch    61: 0.108\n",
      "Loss after mini-batch    71: 0.133\n",
      "Loss after mini-batch    81: 0.078\n",
      "Loss after mini-batch    91: 0.066\n",
      "Loss after mini-batch   101: 0.059\n",
      "Starting epoch 5\n",
      "Loss after mini-batch     1: 0.005\n",
      "Loss after mini-batch    11: 0.059\n",
      "Loss after mini-batch    21: 0.068\n",
      "Loss after mini-batch    31: 0.055\n",
      "Loss after mini-batch    41: 0.051\n",
      "Loss after mini-batch    51: 0.053\n",
      "Loss after mini-batch    61: 0.073\n",
      "Loss after mini-batch    71: 0.063\n",
      "Loss after mini-batch    81: 0.095\n",
      "Loss after mini-batch    91: 0.092\n",
      "Loss after mini-batch   101: 0.091\n",
      "Training process has finished.\n"
     ]
    }
   ],
   "source": [
    "# Run the training loop\n",
    "for epoch in range(0, 5): # 5 epochs at maximum  \n",
    "    # Print epoch\n",
    "    print(f'Starting epoch {epoch+1}')\n",
    "\n",
    "    # Set current loss value\n",
    "    current_loss = 0.0\n",
    "\n",
    "    # Iterate over the DataLoader for training data\n",
    "    for i, data in enumerate(trainloader, 0):\n",
    "\n",
    "          # Get and prepare inputs\n",
    "        inputs, targets = data\n",
    "        inputs, targets = inputs.float(), targets.float()\n",
    "        targets = targets.reshape((targets.shape[0], 1))\n",
    "\n",
    "        # Zero the gradients\n",
    "        optimizer.zero_grad()\n",
    "\n",
    "        # Perform forward pass\n",
    "        outputs = mlp(inputs)\n",
    "\n",
    "        # Compute loss\n",
    "        loss = loss_function(outputs, targets)\n",
    "\n",
    "        # Perform backward pass\n",
    "        loss.backward()\n",
    "\n",
    "        # Perform optimization\n",
    "        optimizer.step()\n",
    "\n",
    "        # Print statistics\n",
    "        current_loss += loss.item()\n",
    "        if i % 10 == 0:\n",
    "            print('Loss after mini-batch %5d: %.3f' %\n",
    "                (i + 1, current_loss / 500))\n",
    "            current_loss = 0.0\n",
    "\n",
    "# Process is complete.\n",
    "print('Training process has finished.')"
   ]
  },
  {
   "cell_type": "code",
   "execution_count": 40,
   "id": "5a08ada6",
   "metadata": {},
   "outputs": [
    {
     "data": {
      "text/plain": [
       "MLP(\n",
       "  (layers): Sequential(\n",
       "    (0): Linear(in_features=3, out_features=64, bias=True)\n",
       "    (1): ReLU()\n",
       "    (2): Linear(in_features=64, out_features=32, bias=True)\n",
       "    (3): ReLU()\n",
       "    (4): Linear(in_features=32, out_features=1, bias=True)\n",
       "  )\n",
       ")"
      ]
     },
     "execution_count": 40,
     "metadata": {},
     "output_type": "execute_result"
    }
   ],
   "source": [
    "mlp.eval()"
   ]
  },
  {
   "cell_type": "code",
   "execution_count": 41,
   "id": "a9799edc",
   "metadata": {},
   "outputs": [],
   "source": [
    "# test = np.random.randn(13)\n",
    "# torch usa tensores de torch y no numpy.darrays\n",
    "dtype = torch.float\n",
    "test = torch.randn((1, 3), device=device, dtype=dtype)"
   ]
  },
  {
   "cell_type": "code",
   "execution_count": 42,
   "id": "a599b0ed",
   "metadata": {},
   "outputs": [
    {
     "data": {
      "text/plain": [
       "tensor([[8.8453]], grad_fn=<AddmmBackward0>)"
      ]
     },
     "execution_count": 42,
     "metadata": {},
     "output_type": "execute_result"
    }
   ],
   "source": [
    "mlp.forward(test)"
   ]
  },
  {
   "cell_type": "code",
   "execution_count": null,
   "id": "740741a9",
   "metadata": {},
   "outputs": [],
   "source": []
  }
 ],
 "metadata": {
  "kernelspec": {
   "display_name": "Python 3 (ipykernel)",
   "language": "python",
   "name": "python3"
  },
  "language_info": {
   "codemirror_mode": {
    "name": "ipython",
    "version": 3
   },
   "file_extension": ".py",
   "mimetype": "text/x-python",
   "name": "python",
   "nbconvert_exporter": "python",
   "pygments_lexer": "ipython3",
   "version": "3.8.2"
  }
 },
 "nbformat": 4,
 "nbformat_minor": 5
}
